{
 "cells": [
  {
   "cell_type": "markdown",
   "id": "4d34b9ac-0660-4019-ae1f-dce7d2687241",
   "metadata": {},
   "source": [
    "# https://github.com/aws-samples/amazon-sagemaker-immersion-day/blob/lab03/bring-custom-container.ipynb"
   ]
  },
  {
   "cell_type": "code",
   "execution_count": null,
   "id": "2d65e37c-2afc-4107-b292-e6eea4c8a38e",
   "metadata": {
    "tags": []
   },
   "outputs": [],
   "source": [
    "!curl https://raw.githubusercontent.com/aws-samples/amazon-sagemaker-immersion-day/master/scikit_bring_your_own.zip --output scikit_bring_your_own.zip"
   ]
  },
  {
   "cell_type": "code",
   "execution_count": null,
   "id": "443c7f4b-5e1b-4523-99fd-67f9c4c9c019",
   "metadata": {
    "tags": []
   },
   "outputs": [],
   "source": [
    "!unzip scikit_bring_your_own.zip"
   ]
  },
  {
   "cell_type": "code",
   "execution_count": null,
   "id": "84d42f33-b182-46fc-a060-9f09061736e0",
   "metadata": {
    "tags": []
   },
   "outputs": [],
   "source": [
    "!mv scikit_bring_your_own/data ./"
   ]
  },
  {
   "cell_type": "code",
   "execution_count": null,
   "id": "45ff0681-d5e1-4457-9d32-96595b7f66e6",
   "metadata": {
    "tags": []
   },
   "outputs": [],
   "source": [
    "!mv scikit_bring_your_own/container ./"
   ]
  },
  {
   "cell_type": "code",
   "execution_count": null,
   "id": "215d0a57-d287-4d43-82a6-3fc12f0af149",
   "metadata": {
    "tags": []
   },
   "outputs": [],
   "source": [
    "!rm scikit_bring_your_own.zip"
   ]
  },
  {
   "cell_type": "code",
   "execution_count": null,
   "id": "3b28a570-ab20-4218-8e00-2ae9d63b3669",
   "metadata": {
    "tags": []
   },
   "outputs": [],
   "source": [
    "!rm -rf scikit_bring_your_own"
   ]
  },
  {
   "cell_type": "code",
   "execution_count": null,
   "id": "f85a6b9d-f040-48e8-b829-4cd8dbf31367",
   "metadata": {
    "tags": []
   },
   "outputs": [],
   "source": [
    "!cat container/Dockerfile"
   ]
  },
  {
   "cell_type": "code",
   "execution_count": null,
   "id": "8dc57659-a75e-4235-93eb-320f9249ed17",
   "metadata": {
    "tags": []
   },
   "outputs": [],
   "source": [
    "!pip install sagemaker-studio-image-build"
   ]
  },
  {
   "cell_type": "code",
   "execution_count": null,
   "id": "2ecd9166-d4f0-49d2-8049-7705e83fe8e5",
   "metadata": {
    "tags": []
   },
   "outputs": [],
   "source": [
    "%%sh\n",
    "\n",
    "cd container\n",
    "\n",
    "chmod +x decision_trees/train\n",
    "chmod +x decision_trees/serve\n",
    "\n",
    "sm-docker build ."
   ]
  },
  {
   "cell_type": "code",
   "execution_count": null,
   "id": "5f3afd44-e78e-4a28-a1ec-63267bbe02fb",
   "metadata": {
    "tags": []
   },
   "outputs": [],
   "source": [
    "# S3 prefix\n",
    "prefix = 'DEMO-scikit-byo-iris'\n",
    "\n",
    "# Define IAM role\n",
    "import boto3\n",
    "import re\n",
    "\n",
    "import os\n",
    "import numpy as np\n",
    "import pandas as pd\n",
    "from sagemaker import get_execution_role\n",
    "\n",
    "role = get_execution_role()"
   ]
  },
  {
   "cell_type": "code",
   "execution_count": null,
   "id": "db6967eb-66ad-466a-bd91-1c4737861253",
   "metadata": {
    "tags": []
   },
   "outputs": [],
   "source": [
    "import sagemaker as sage\n",
    "from time import gmtime, strftime\n",
    "\n",
    "sess = sage.Session()"
   ]
  },
  {
   "cell_type": "code",
   "execution_count": null,
   "id": "45eb88f6-5d04-4e74-8bbc-7550ac4ec534",
   "metadata": {
    "tags": []
   },
   "outputs": [],
   "source": [
    "WORK_DIRECTORY = 'data'\n",
    "\n",
    "data_location = sess.upload_data(WORK_DIRECTORY, key_prefix=prefix)"
   ]
  },
  {
   "cell_type": "code",
   "execution_count": null,
   "id": "712bf19c-df4d-4234-ab20-26dea9631693",
   "metadata": {},
   "outputs": [],
   "source": [
    "account = sess.boto_session.client('sts').get_caller_identity()['Account']\n",
    "region = sess.boto_session.region_name\n",
    "image = '{}.dkr.ecr.{}.amazonaws.com/sagemaker-decision-trees:latest'.format(account, region)\n",
    "\n",
    "iamgeuri = '054898670646.dkr.ecr.us-east-2.amazonaws.com/sagemaker-studio-d-5um3hlokgoth:default-1673743370029'\n",
    "tree = sage.estimator.Estimator(iamgeuri,\n",
    "                       role, instance_count=1, instance_type='ml.c4.2xlarge',\n",
    "                       output_path=\"s3://{}/output\".format(sess.default_bucket()),\n",
    "                       sagemaker_session=sess)\n",
    "\n",
    "tree.fit(data_location)"
   ]
  },
  {
   "cell_type": "code",
   "execution_count": null,
   "id": "702148e6-3785-4258-ad16-bead46ee0e3c",
   "metadata": {
    "tags": []
   },
   "outputs": [],
   "source": [
    "from sagemaker.serializers import CSVSerializer\n",
    "predictor = tree.deploy(initial_instance_count=1, instance_type='ml.m4.xlarge', serializer=CSVSerializer())"
   ]
  },
  {
   "cell_type": "code",
   "execution_count": null,
   "id": "a7129cd2-680e-4786-b38d-39ddbae0df08",
   "metadata": {
    "tags": []
   },
   "outputs": [],
   "source": [
    "shape=pd.read_csv(\"data/iris.csv\", header=None)\n",
    "shape.sample(3)"
   ]
  },
  {
   "cell_type": "code",
   "execution_count": null,
   "id": "e3119c2d-2f59-4c41-a89d-92aeffb7d521",
   "metadata": {
    "tags": []
   },
   "outputs": [],
   "source": [
    "# drop the label column in the training set\n",
    "shape.drop(shape.columns[[0]],axis=1,inplace=True)\n",
    "shape.sample(3)"
   ]
  },
  {
   "cell_type": "code",
   "execution_count": null,
   "id": "614370bc-77f9-423f-9ddb-6fb5be02ab8f",
   "metadata": {
    "tags": []
   },
   "outputs": [],
   "source": [
    "import itertools\n",
    "\n",
    "a = [50*i for i in range(3)]\n",
    "b = [40+i for i in range(10)]\n",
    "indices = [i+j for i,j in itertools.product(a,b)]\n",
    "\n",
    "test_data=shape.iloc[indices[:-1]]"
   ]
  },
  {
   "cell_type": "code",
   "execution_count": null,
   "id": "c9f39e90-712d-4ff2-9257-f7a1ec066c55",
   "metadata": {
    "tags": []
   },
   "outputs": [],
   "source": [
    "print(predictor.predict(test_data.values).decode('utf-8'))"
   ]
  },
  {
   "cell_type": "code",
   "execution_count": null,
   "id": "56ecd67e-f2f2-453c-ade7-dd6075f34815",
   "metadata": {
    "tags": []
   },
   "outputs": [],
   "source": [
    "predictor.endpoint_name"
   ]
  },
  {
   "cell_type": "code",
   "execution_count": null,
   "id": "2ccd24cd-3291-48b2-b268-612c6aca6023",
   "metadata": {
    "tags": []
   },
   "outputs": [],
   "source": [
    "sess.delete_endpoint(predictor.endpoint_name)"
   ]
  }
 ],
 "metadata": {
  "instance_type": "ml.t3.medium",
  "kernelspec": {
   "display_name": "Python 3 (Data Science)",
   "language": "python",
   "name": "python3__SAGEMAKER_INTERNAL__arn:aws:sagemaker:us-east-2:429704687514:image/datascience-1.0"
  },
  "language_info": {
   "codemirror_mode": {
    "name": "ipython",
    "version": 3
   },
   "file_extension": ".py",
   "mimetype": "text/x-python",
   "name": "python",
   "nbconvert_exporter": "python",
   "pygments_lexer": "ipython3",
   "version": "3.7.10"
  }
 },
 "nbformat": 4,
 "nbformat_minor": 5
}
