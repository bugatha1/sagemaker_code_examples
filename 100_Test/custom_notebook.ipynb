{
 "cells": [
  {
   "cell_type": "code",
   "execution_count": 31,
   "id": "8a73d8e5-713e-41d2-b60f-9609b9861877",
   "metadata": {
    "tags": []
   },
   "outputs": [
    {
     "name": "stdout",
     "output_type": "stream",
     "text": [
      "Overwriting custom_script.py\n"
     ]
    }
   ],
   "source": [
    "%%writefile custom_script.py\n",
    "\n",
    "import joblib\n",
    "import argparse\n",
    "from CustomtestModel import CustomtestModel\n",
    "\n",
    "def main(inputfile):\n",
    "    model = CustomtestModel(inputfile = inputfile)\n",
    "    response = model.getjson()\n",
    "    model_file_name = 'test_custom_model'\n",
    "    joblib.dump(response, model_file_name)\n",
    "    \n",
    "    \n",
    "if __name__ == \"__main__\":\n",
    "    parser = argparse.ArgumentParser()\n",
    "    parser.add_argument(\"--inuptfilepath\", type=str, default=\"testdata.xlsx\")\n",
    "    args = parser.parse_args()\n",
    "    main(inputfile=args.inuptfilepath)    "
   ]
  },
  {
   "cell_type": "code",
   "execution_count": 32,
   "id": "ae2e5910-6472-4d23-b20f-accbc5141c2a",
   "metadata": {
    "tags": []
   },
   "outputs": [],
   "source": [
    "! python custom_script.py"
   ]
  },
  {
   "cell_type": "code",
   "execution_count": 33,
   "id": "7869a1e9-48e1-4140-ac29-7cd275781113",
   "metadata": {
    "tags": []
   },
   "outputs": [
    {
     "data": {
      "text/plain": [
       "{'test': {'testdata': [101], 'realdata': [201]}}"
      ]
     },
     "execution_count": 33,
     "metadata": {},
     "output_type": "execute_result"
    }
   ],
   "source": [
    "import joblib\n",
    "\n",
    "model_file_name = \"test_custom_model\"\n",
    "\n",
    "mymodel = joblib.load(model_file_name)\n",
    "mymodel"
   ]
  },
  {
   "cell_type": "code",
   "execution_count": 34,
   "id": "9b6c71c4-cb62-43e6-a710-2df414e91a33",
   "metadata": {
    "tags": []
   },
   "outputs": [
    {
     "name": "stdout",
     "output_type": "stream",
     "text": [
      "test_custom_model\n"
     ]
    }
   ],
   "source": [
    "!tar czvf testcustommodel.tar.gz $model_file_name"
   ]
  },
  {
   "cell_type": "code",
   "execution_count": 35,
   "id": "7e44bccf-15e5-4d7a-815a-c7bb2eb2cc5e",
   "metadata": {},
   "outputs": [
    {
     "data": {
      "text/plain": [
       "'sagemaker-us-east-2-054898670646'"
      ]
     },
     "execution_count": 35,
     "metadata": {},
     "output_type": "execute_result"
    }
   ],
   "source": [
    "import sagemaker\n",
    "\n",
    "sess = sagemaker.Session()\n",
    "sess.default_bucket()"
   ]
  },
  {
   "cell_type": "code",
   "execution_count": 36,
   "id": "093dbe7f-f156-42b1-ba26-37ea60c1034d",
   "metadata": {
    "tags": []
   },
   "outputs": [],
   "source": [
    "import boto3\n",
    "\n",
    "botosession = boto3.Session()\n",
    "s3 = botosession.resource(\"s3\")\n",
    "client = boto3.client(\"s3\")"
   ]
  },
  {
   "cell_type": "code",
   "execution_count": 37,
   "id": "a02a1a1a-e02e-4e54-ad85-e83272381352",
   "metadata": {
    "tags": []
   },
   "outputs": [
    {
     "name": "stdout",
     "output_type": "stream",
     "text": [
      "Models/umasankar/test_custom_model/testcustommodel.tar.gz\n"
     ]
    }
   ],
   "source": [
    "import os\n",
    "\n",
    "prefix = \"umasankar/\"\n",
    "bucket = \"sagemaker-us-east-2-054898670646\"\n",
    "\n",
    "fobj = open(\"testcustommodel.tar.gz\", \"rb\")\n",
    "key = os.path.join(\"Models\",prefix,model_file_name,\"testcustommodel.tar.gz\")\n",
    "print(key)\n",
    "boto3.Session().resource(\"s3\").Bucket(bucket).Object(key).upload_fileobj(fobj)"
   ]
  },
  {
   "cell_type": "code",
   "execution_count": 38,
   "id": "d51b4c72-4512-4a8f-b873-71dd759d21cf",
   "metadata": {
    "tags": []
   },
   "outputs": [
    {
     "name": "stderr",
     "output_type": "stream",
     "text": [
      "The method get_image_uri has been renamed in sagemaker>=2.\n",
      "See: https://sagemaker.readthedocs.io/en/stable/v2.html for details.\n"
     ]
    },
    {
     "data": {
      "text/plain": [
       "'257758044811.dkr.ecr.us-east-2.amazonaws.com/sagemaker-xgboost:1.3-1'"
      ]
     },
     "execution_count": 38,
     "metadata": {},
     "output_type": "execute_result"
    }
   ],
   "source": [
    "from sagemaker.amazon.amazon_estimator import get_image_uri\n",
    "\n",
    "container = get_image_uri(boto3.Session().region_name, \"xgboost\", \"1.3-1\")\n",
    "container"
   ]
  },
  {
   "cell_type": "code",
   "execution_count": 39,
   "id": "eb3b2f13-cf66-4b2b-a061-87b16a75285e",
   "metadata": {
    "tags": []
   },
   "outputs": [
    {
     "data": {
      "text/plain": [
       "'arn:aws:iam::054898670646:role/service-role/AmazonSageMaker-ExecutionRole-20230114T184345'"
      ]
     },
     "execution_count": 39,
     "metadata": {},
     "output_type": "execute_result"
    }
   ],
   "source": [
    "role = sagemaker.get_execution_role()\n",
    "role"
   ]
  },
  {
   "cell_type": "code",
   "execution_count": 40,
   "id": "985f0d47-a342-4f1a-8399-7e39a96f1f6b",
   "metadata": {
    "tags": []
   },
   "outputs": [
    {
     "name": "stdout",
     "output_type": "stream",
     "text": [
      "{'ModelArn': 'arn:aws:sagemaker:us-east-2:054898670646:model/custommodeltest2', 'ResponseMetadata': {'RequestId': '40e25fb1-4530-4c76-8356-40ff3e2aaeae', 'HTTPStatusCode': 200, 'HTTPHeaders': {'x-amzn-requestid': '40e25fb1-4530-4c76-8356-40ff3e2aaeae', 'content-type': 'application/x-amz-json-1.1', 'content-length': '78', 'date': 'Sun, 22 Jan 2023 02:29:11 GMT'}, 'RetryAttempts': 0}}\n",
      "arn:aws:sagemaker:us-east-2:054898670646:model/custommodeltest2\n"
     ]
    }
   ],
   "source": [
    "\n",
    "model_name = \"custommodeltest2\"\n",
    "model_url = \"s3://sagemaker-us-east-2-054898670646/Models/umasankar/test_custom_model/testcustommodel.tar.gz\"\n",
    "sm_client = boto3.client(\"sagemaker\")\n",
    "\n",
    "primary_container = {\n",
    "    \"Image\" : container,\n",
    "    \"ModelDataUrl\": model_url\n",
    "}\n",
    "\n",
    "create_model_response = sm_client.create_model(\n",
    "    ModelName = model_name,\n",
    "    ExecutionRoleArn = role,\n",
    "    PrimaryContainer = primary_container)\n",
    "\n",
    "print(create_model_response)\n",
    "print(create_model_response[\"ModelArn\"])"
   ]
  },
  {
   "cell_type": "code",
   "execution_count": 41,
   "id": "ad93e345-8237-470d-b2c4-373c9d47321d",
   "metadata": {
    "tags": []
   },
   "outputs": [
    {
     "name": "stdout",
     "output_type": "stream",
     "text": [
      "Endpoint Config Arn: arn:aws:sagemaker:us-east-2:054898670646:endpoint-config/custommodelendpointconfig1\n"
     ]
    }
   ],
   "source": [
    "# endpoint configuration\n",
    "\n",
    "endpoint_config_name = \"custommodelendpointconfig1\"\n",
    "\n",
    "create_endpoint_config_response = sm_client.create_endpoint_config(\n",
    "    EndpointConfigName=endpoint_config_name,\n",
    "    ProductionVariants = [\n",
    "        {\n",
    "            \"InstanceType\":\"ml.m4.xlarge\",\n",
    "            \"InitialInstanceCount\": 1,\n",
    "            \"InitialVariantWeight\": 1,\n",
    "            \"ModelName\": model_name,\n",
    "            \"VariantName\": \"AllTraffic\"\n",
    "        }\n",
    "    ]\n",
    ")\n",
    "\n",
    "print(\"Endpoint Config Arn: \" + create_endpoint_config_response[\"EndpointConfigArn\"])"
   ]
  },
  {
   "cell_type": "code",
   "execution_count": 42,
   "id": "95273b4e-1a66-40a4-aad5-410f893ab766",
   "metadata": {
    "tags": []
   },
   "outputs": [
    {
     "name": "stdout",
     "output_type": "stream",
     "text": [
      "arn:aws:sagemaker:us-east-2:054898670646:endpoint/custommodelendpointtest1\n"
     ]
    }
   ],
   "source": [
    "endpoint_name = \"custommodelendpointtest1\"\n",
    "\n",
    "create_endpoint_response = sm_client.create_endpoint(\n",
    "    EndpointName = endpoint_name, EndpointConfigName=endpoint_config_name\n",
    ")\n",
    "\n",
    "print(create_endpoint_response[\"EndpointArn\"])"
   ]
  },
  {
   "cell_type": "code",
   "execution_count": null,
   "id": "f43adb9e-4dc8-4e3b-9b00-e5b06e940834",
   "metadata": {},
   "outputs": [],
   "source": [
    "import sagemaker"
   ]
  },
  {
   "cell_type": "code",
   "execution_count": 4,
   "id": "125e206a-fb1e-4ac1-927d-8144f529d684",
   "metadata": {
    "tags": []
   },
   "outputs": [
    {
     "data": {
      "text/plain": [
       "{'ResponseMetadata': {'RequestId': 'd0121f79-14ee-43f9-a79c-f4f2736089ac',\n",
       "  'HTTPStatusCode': 200,\n",
       "  'HTTPHeaders': {'x-amzn-requestid': 'd0121f79-14ee-43f9-a79c-f4f2736089ac',\n",
       "   'content-type': 'application/x-amz-json-1.1',\n",
       "   'content-length': '0',\n",
       "   'date': 'Sun, 22 Jan 2023 06:19:47 GMT'},\n",
       "  'RetryAttempts': 0}}"
      ]
     },
     "execution_count": 4,
     "metadata": {},
     "output_type": "execute_result"
    }
   ],
   "source": [
    "import boto3\n",
    "sm_client = boto3.client(\"sagemaker\")\n",
    "sm_client.delete_endpoint(EndpointName=\"custommodelendpointtest1\")\n",
    "\n",
    "\n",
    "\n",
    "\n",
    "\n",
    "\n",
    "\n"
   ]
  },
  {
   "cell_type": "code",
   "execution_count": null,
   "id": "8d7784d1-bfa5-4760-9c70-c8992967dcd1",
   "metadata": {},
   "outputs": [],
   "source": []
  }
 ],
 "metadata": {
  "kernelspec": {
   "display_name": "Python 3 (Data Science)",
   "language": "python",
   "name": "python3__SAGEMAKER_INTERNAL__arn:aws:sagemaker:us-east-2:429704687514:image/datascience-1.0"
  },
  "language_info": {
   "codemirror_mode": {
    "name": "ipython",
    "version": 3
   },
   "file_extension": ".py",
   "mimetype": "text/x-python",
   "name": "python",
   "nbconvert_exporter": "python",
   "pygments_lexer": "ipython3",
   "version": "3.7.10"
  }
 },
 "nbformat": 4,
 "nbformat_minor": 5
}
