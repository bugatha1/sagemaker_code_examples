{
 "cells": [
  {
   "cell_type": "code",
   "execution_count": null,
   "id": "a53dcc4c-1905-4849-84f4-bfa434bac4fe",
   "metadata": {
    "tags": []
   },
   "outputs": [],
   "source": [
    "import sys\n",
    "\n",
    "!{sys.executable} -m pip install \"sagemaker==2.91.1\""
   ]
  },
  {
   "cell_type": "code",
   "execution_count": null,
   "id": "76a00347-cb75-4aee-8f13-d8af4c963759",
   "metadata": {
    "tags": []
   },
   "outputs": [],
   "source": [
    "import os\n",
    "import time\n",
    "import boto3\n",
    "import numpy as np\n",
    "import pandas as pd\n",
    "from sklearn.model_selection import train_test_split\n",
    "import sagemaker"
   ]
  },
  {
   "cell_type": "code",
   "execution_count": null,
   "id": "85b14c64-21c6-4a7c-9109-15da15b87f8c",
   "metadata": {
    "tags": []
   },
   "outputs": [],
   "source": [
    "sess = boto3.Session()\n",
    "sm = sess.client(\"sagemaker\")\n",
    "role = sagemaker.get_execution_role()\n",
    "sagemaker_session = sagemaker.Session(boto_session=sess)\n",
    "bucket = sagemaker_session.default_bucket()\n",
    "region = sess.region_name\n",
    "model_package_group_name = \"TF2-California-Housing\"\n",
    "prefix = \"tf2-california-housing-pipelines\"\n",
    "pipeline_name = \"TF2CalifoniaHousingPipeline\"\n",
    "current_time = time.strftime(\"%m-%d-%H-%M-%S\", time.localtime())"
   ]
  },
  {
   "cell_type": "markdown",
   "id": "c93a4f86-841b-4107-b820-13df5c326c56",
   "metadata": {},
   "source": [
    "Download California Housing dataset and upload to Amazon S3"
   ]
  },
  {
   "cell_type": "code",
   "execution_count": null,
   "id": "550ec628-54d3-4178-9270-70d346626202",
   "metadata": {
    "tags": []
   },
   "outputs": [],
   "source": [
    "os.getcwd()"
   ]
  },
  {
   "cell_type": "code",
   "execution_count": null,
   "id": "c6414164-ab7a-4d38-838d-96696bcc06af",
   "metadata": {
    "tags": []
   },
   "outputs": [],
   "source": [
    "data_dir = os.path.join(os.getcwd(), \"data\")\n",
    "os.makedirs(data_dir, exist_ok=True)\n",
    "\n",
    "raw_dir = os.path.join(os.getcwd(), \"data/raw\")\n",
    "os.makedirs(raw_dir, exist_ok=True)"
   ]
  },
  {
   "cell_type": "code",
   "execution_count": null,
   "id": "83d2d196-3105-4552-9cc0-a397aa623f94",
   "metadata": {
    "tags": []
   },
   "outputs": [],
   "source": [
    "!aws s3 cp s3://sagemaker-sample-files/datasets/tabular/california_housing/cal_housing.tgz ."
   ]
  },
  {
   "cell_type": "code",
   "execution_count": null,
   "id": "a085147e-a98f-4ebc-8757-91ae6f65b8ed",
   "metadata": {
    "tags": []
   },
   "outputs": [],
   "source": [
    "!tar -zxf cal_housing.tgz --no-same-owner"
   ]
  },
  {
   "cell_type": "code",
   "execution_count": null,
   "id": "28e0044b-05f3-4106-955a-16fc431894f2",
   "metadata": {
    "tags": []
   },
   "outputs": [],
   "source": [
    "columns = [\n",
    "    \"longitude\",\n",
    "    \"latitude\",\n",
    "    \"housingMedianAge\",\n",
    "    \"totalRooms\",\n",
    "    \"totalBedrooms\",\n",
    "    \"population\",\n",
    "    \"households\",\n",
    "    \"medianIncome\",\n",
    "    \"medianHouseValue\",\n",
    "]\n",
    "cal_housing_df = pd.read_csv(\"CaliforniaHousing/cal_housing.data\", names=columns, header=None)"
   ]
  },
  {
   "cell_type": "code",
   "execution_count": null,
   "id": "a42d615b-b80a-4d4a-ae88-f878220023f0",
   "metadata": {
    "tags": []
   },
   "outputs": [],
   "source": [
    "cal_housing_df.head()"
   ]
  },
  {
   "cell_type": "code",
   "execution_count": null,
   "id": "8c59330a-1fbb-4278-a846-cb3a0cdff775",
   "metadata": {
    "tags": []
   },
   "outputs": [],
   "source": [
    "X = cal_housing_df[\n",
    "    [\n",
    "        \"longitude\",\n",
    "        \"latitude\",\n",
    "        \"housingMedianAge\",\n",
    "        \"totalRooms\",\n",
    "        \"totalBedrooms\",\n",
    "        \"population\",\n",
    "        \"households\",\n",
    "        \"medianIncome\",\n",
    "    ]\n",
    "]\n",
    "Y = cal_housing_df[[\"medianHouseValue\"]] / 100000\n",
    "\n",
    "x_train, x_test, y_train, y_test = train_test_split(X, Y, test_size=0.33)\n",
    "\n",
    "np.save(os.path.join(raw_dir, \"x_train.npy\"), x_train)\n",
    "np.save(os.path.join(raw_dir, \"x_test.npy\"), x_test)\n",
    "np.save(os.path.join(raw_dir, \"y_train.npy\"), y_train)\n",
    "np.save(os.path.join(raw_dir, \"y_test.npy\"), y_test)\n",
    "rawdata_s3_prefix = \"{}/data/raw\".format(prefix)\n",
    "raw_s3 = sagemaker_session.upload_data(path=\"./data/raw/\", key_prefix=rawdata_s3_prefix)\n",
    "print(raw_s3)"
   ]
  },
  {
   "cell_type": "code",
   "execution_count": null,
   "id": "4c0feac8-d8db-4435-bf12-bf046965a961",
   "metadata": {
    "tags": []
   },
   "outputs": [],
   "source": [
    "from sagemaker.workflow.parameters import ParameterInteger, ParameterString, ParameterFloat\n",
    "\n",
    "input_data = ParameterString(name=\"InputData\", default_value=raw_s3)\n",
    "\n",
    "training_epochs = ParameterString(name=\"TrainingEpochs\", default_value=\"100\")\n",
    "\n",
    "accuracy_mse_threshold = ParameterFloat(name=\"AccuracyMseThreshold\", default_value=0.75)\n",
    "\n",
    "endpoint_instance_type = ParameterString(name=\"EndpointInstanceType\", default_value=\"ml.m5.xlarge\")"
   ]
  },
  {
   "cell_type": "markdown",
   "id": "19eb6cb1-a753-4a14-bda4-d879d3258196",
   "metadata": {},
   "source": [
    "Processing Step"
   ]
  },
  {
   "cell_type": "code",
   "execution_count": null,
   "id": "4696f862-bf15-41fe-867e-fecf5c172792",
   "metadata": {
    "tags": []
   },
   "outputs": [],
   "source": [
    "%%writefile preprocess.py\n",
    "\n",
    "import glob\n",
    "import numpy as np\n",
    "import os\n",
    "from sklearn.preprocessing import StandardScaler\n",
    "\n",
    "if __name__ == \"__main__\":\n",
    "\n",
    "    input_files = glob.glob(\"{}/*.npy\".format(\"/opt/ml/processing/input\"))\n",
    "    print(\"\\nINPUT FILE LIST: \\n{}\\n\".format(input_files))\n",
    "    scaler = StandardScaler()\n",
    "    x_train = np.load(os.path.join(\"/opt/ml/processing/input\", \"x_train.npy\"))\n",
    "    scaler.fit(x_train)\n",
    "    for file in input_files:\n",
    "        raw = np.load(file)\n",
    "        # only transform feature columns\n",
    "        if \"y_\" not in file:\n",
    "            transformed = scaler.transform(raw)\n",
    "        if \"train\" in file:\n",
    "            if \"y_\" in file:\n",
    "                output_path = os.path.join(\"/opt/ml/processing/train\", \"y_train.npy\")\n",
    "                np.save(output_path, raw)\n",
    "                print(\"SAVED LABEL TRAINING DATA FILE\\n\")\n",
    "            else:\n",
    "                output_path = os.path.join(\"/opt/ml/processing/train\", \"x_train.npy\")\n",
    "                np.save(output_path, transformed)\n",
    "                print(\"SAVED TRANSFORMED TRAINING DATA FILE\\n\")\n",
    "        else:\n",
    "            if \"y_\" in file:\n",
    "                output_path = os.path.join(\"/opt/ml/processing/test\", \"y_test.npy\")\n",
    "                np.save(output_path, raw)\n",
    "                print(\"SAVED LABEL TEST DATA FILE\\n\")\n",
    "            else:\n",
    "                output_path = os.path.join(\"/opt/ml/processing/test\", \"x_test.npy\")\n",
    "                np.save(output_path, transformed)\n",
    "                print(\"SAVED TRANSFORMED TEST DATA FILE\\n\")"
   ]
  },
  {
   "cell_type": "code",
   "execution_count": null,
   "id": "30da6383-f7ed-4ae3-87d0-dc98e12df591",
   "metadata": {},
   "outputs": [],
   "source": [
    "from sagemaker.sklearn.preprocessing import SKLearnProcessor\n",
    "from sagemaker.processing import ProcessingInput, ProcessingOutput\n",
    "from sagemaker.workflow.steps import ProcessingStep\n",
    "\n",
    "framework_version = \"1.0-1\"\n",
    "\n",
    "sklearn_processor = SKLearnProcessor(\n",
    "    framework_version=framework_version,\n",
    "    role=role,\n",
    "    instance_type=\"ml.m5.large\",\n",
    "    instance_count=1,\n",
    "    base_job_name=\"tf2-california-housing-processing-job\",\n",
    ")\n",
    "\n",
    "# Use the sklearn_processor in a Sagemaker pipelines ProcessingStep\n",
    "step_processing_data = "
   ]
  }
 ],
 "metadata": {
  "kernelspec": {
   "display_name": "Python 3 (Data Science)",
   "language": "python",
   "name": "python3__SAGEMAKER_INTERNAL__arn:aws:sagemaker:us-east-2:429704687514:image/datascience-1.0"
  },
  "language_info": {
   "codemirror_mode": {
    "name": "ipython",
    "version": 3
   },
   "file_extension": ".py",
   "mimetype": "text/x-python",
   "name": "python",
   "nbconvert_exporter": "python",
   "pygments_lexer": "ipython3",
   "version": "3.7.10"
  }
 },
 "nbformat": 4,
 "nbformat_minor": 5
}
