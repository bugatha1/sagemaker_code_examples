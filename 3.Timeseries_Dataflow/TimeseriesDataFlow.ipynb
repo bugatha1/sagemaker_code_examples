{
 "cells": [
  {
   "cell_type": "code",
   "execution_count": 2,
   "id": "10eccbc2-49ed-4cd9-85cc-d91be784b6cc",
   "metadata": {
    "tags": []
   },
   "outputs": [
    {
     "name": "stdout",
     "output_type": "stream",
     "text": [
      "/root/sagemaker_code_examples/3.Timeseries_Dataflow\n"
     ]
    }
   ],
   "source": [
    "!pwd"
   ]
  },
  {
   "cell_type": "code",
   "execution_count": 3,
   "id": "444221b1-9869-4864-b85b-5b139d48c261",
   "metadata": {
    "tags": []
   },
   "outputs": [
    {
     "data": {
      "text/plain": [
       "'us-east-1'"
      ]
     },
     "execution_count": 3,
     "metadata": {},
     "output_type": "execute_result"
    }
   ],
   "source": [
    "import boto3\n",
    "\n",
    "boto_session = boto3.session.Session()\n",
    "boto_session.region_name"
   ]
  },
  {
   "cell_type": "code",
   "execution_count": 6,
   "id": "1ae2c967-d9b1-4eee-ba7c-9029a6858bc5",
   "metadata": {
    "tags": []
   },
   "outputs": [],
   "source": [
    "from sagemaker import get_execution_role\n",
    "\n",
    "role = get_execution_role()\n"
   ]
  },
  {
   "cell_type": "code",
   "execution_count": 5,
   "id": "fb453f31-b9e5-4719-b3c0-b55ec5f78448",
   "metadata": {
    "tags": []
   },
   "outputs": [],
   "source": [
    "import boto3\n",
    "import json\n",
    "\n",
    "\n",
    "# Setup\n",
    "REGION = 'us-east-1'\n",
    "account_id = boto3.client('sts').get_caller_identity().get('Account')\n",
    "bucket_name = f'{account_id}-{REGION}-dw-ts-lab'\n",
    "\n",
    "\n",
    "# Create S3 bucket to download dataset in your account\n",
    "s3 = boto3.resource('s3')\n",
    "\n",
    "if REGION == 'us-east-1':\n",
    "    s3.create_bucket(Bucket=bucket_name)\n",
    "else:\n",
    "    s3.create_bucket(Bucket=bucket_name,CreateBucketConfiguration={'LocationConstraint': REGION})\n",
    "    # Copy dataset from public hosted location to your S3 bucket\n",
    "trips = [\n",
    "    {'Bucket': 'nyc-tlc', 'Key': 'trip data/yellow_tripdata_2019-02.parquet'},\n",
    "    {'Bucket': 'nyc-tlc', 'Key': 'trip data/yellow_tripdata_2019-03.parquet'},\n",
    "    {'Bucket': 'nyc-tlc', 'Key': 'trip data/yellow_tripdata_2019-04.parquet'},\n",
    "    {'Bucket': 'nyc-tlc', 'Key': 'trip data/yellow_tripdata_2019-05.parquet'},\n",
    "    {'Bucket': 'nyc-tlc', 'Key': 'trip data/yellow_tripdata_2019-06.parquet'},\n",
    "    {'Bucket': 'nyc-tlc', 'Key': 'trip data/yellow_tripdata_2019-07.parquet'},\n",
    "    {'Bucket': 'nyc-tlc', 'Key': 'trip data/yellow_tripdata_2019-08.parquet'},\n",
    "    {'Bucket': 'nyc-tlc', 'Key': 'trip data/yellow_tripdata_2019-09.parquet'},\n",
    "    {'Bucket': 'nyc-tlc', 'Key': 'trip data/yellow_tripdata_2019-10.parquet'},\n",
    "    {'Bucket': 'nyc-tlc', 'Key': 'trip data/yellow_tripdata_2019-11.parquet'},\n",
    "    {'Bucket': 'nyc-tlc', 'Key': 'trip data/yellow_tripdata_2019-12.parquet'},\n",
    "    {'Bucket': 'nyc-tlc', 'Key': 'trip data/yellow_tripdata_2020-01.parquet'},\n",
    "    {'Bucket': 'nyc-tlc', 'Key': 'trip data/yellow_tripdata_2020-02.parquet'}\n",
    "]\n",
    "for trip in trips:\n",
    "    s3.meta.client.copy(trip, bucket_name, trip['Key'])"
   ]
  },
  {
   "cell_type": "code",
   "execution_count": null,
   "id": "136c0a92-09ba-4758-bfd0-552b072562d3",
   "metadata": {},
   "outputs": [],
   "source": []
  }
 ],
 "metadata": {
  "kernelspec": {
   "display_name": "Python 3 (Data Science)",
   "language": "python",
   "name": "python3__SAGEMAKER_INTERNAL__arn:aws:sagemaker:us-east-1:081325390199:image/datascience-1.0"
  },
  "language_info": {
   "codemirror_mode": {
    "name": "ipython",
    "version": 3
   },
   "file_extension": ".py",
   "mimetype": "text/x-python",
   "name": "python",
   "nbconvert_exporter": "python",
   "pygments_lexer": "ipython3",
   "version": "3.7.10"
  }
 },
 "nbformat": 4,
 "nbformat_minor": 5
}
