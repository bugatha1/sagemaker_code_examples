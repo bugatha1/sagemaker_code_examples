{
 "cells": [
  {
   "cell_type": "code",
   "execution_count": null,
   "id": "ed211241-0c3e-4ae4-8e16-d9c59962d5da",
   "metadata": {
    "tags": []
   },
   "outputs": [],
   "source": [
    "import boto3\n",
    "import pandas as pd\n",
    "import numpy as np\n",
    "\n",
    "s3 = boto3.client(\"s3\")\n",
    "s3.download_file(f\"sagemaker-sample-files\", \"datasets/tabular/iris/iris.data\", \"iris.data\")\n",
    "\n",
    "df = pd.read_csv(\n",
    "    \"iris.data\", header=None, names=[\"sepal_len\", \"sepal_wid\", \"petal_len\", \"petal_wid\", \"class\"]\n",
    ")\n",
    "df.head()"
   ]
  },
  {
   "cell_type": "code",
   "execution_count": null,
   "id": "2c75aebb-88ed-49b1-aa1f-b89c1877284a",
   "metadata": {
    "tags": []
   },
   "outputs": [],
   "source": [
    "# Convert the three classes from strings to integers in {0,1,2}\n",
    "df[\"class_cat\"] = df[\"class\"].astype(\"category\").cat.codes\n",
    "categories_map = dict(enumerate(df[\"class\"].astype(\"category\").cat.categories))\n",
    "print(categories_map)\n",
    "df.head()"
   ]
  },
  {
   "cell_type": "code",
   "execution_count": null,
   "id": "7141b7f3-2247-43d8-a649-2a8617fe2e47",
   "metadata": {
    "tags": []
   },
   "outputs": [],
   "source": [
    "# Split the data into 80-20 train-test split\n",
    "num_samples = df.shape[0]\n",
    "split = round(num_samples * 0.8)\n",
    "train = df.iloc[:split, :]\n",
    "test = df.iloc[split:, :]\n",
    "print(\"{} train, {} test\".format(split, num_samples - split))"
   ]
  },
  {
   "cell_type": "code",
   "execution_count": null,
   "id": "986fab7f-f64c-435b-9479-706fd2301a0c",
   "metadata": {
    "tags": []
   },
   "outputs": [],
   "source": [
    "# Write train and test CSV files\n",
    "train.to_csv(\"train.csv\", index=False)\n",
    "test.to_csv(\"test.csv\", index=False)"
   ]
  },
  {
   "cell_type": "code",
   "execution_count": null,
   "id": "513c5207-d1ef-46a0-b8c1-223d1121a776",
   "metadata": {
    "tags": []
   },
   "outputs": [],
   "source": [
    "# Create a sagemaker session to upload data to S3\n",
    "import sagemaker\n",
    "\n",
    "sagemaker_session = sagemaker.Session()\n",
    "\n",
    "# Upload data to default S3 bucket\n",
    "prefix = \"DEMO-sklearn-iris\"\n",
    "training_input_path = sagemaker_session.upload_data(\"train.csv\", key_prefix=prefix + \"/training\")"
   ]
  },
  {
   "cell_type": "code",
   "execution_count": null,
   "id": "8a58e995-29b3-4318-9e53-4ff9fd2b66f7",
   "metadata": {
    "tags": []
   },
   "outputs": [],
   "source": [
    "# Use the current execution role for training. It needs access to S3\n",
    "role = sagemaker.get_execution_role()\n",
    "print(role)"
   ]
  },
  {
   "cell_type": "code",
   "execution_count": null,
   "id": "d77a7a34-bb30-46fc-8f37-ba8795d23f98",
   "metadata": {
    "tags": []
   },
   "outputs": [],
   "source": [
    "# Docs: https://sagemaker.readthedocs.io/en/stable/frameworks/sklearn/sagemaker.sklearn.html\n",
    "\n",
    "from sagemaker.sklearn import SKLearn\n",
    "\n",
    "sk_estimator = SKLearn(\n",
    "    entry_point=\"train.py\",\n",
    "    role=role,\n",
    "    instance_count=1,\n",
    "    instance_type=\"ml.c5.xlarge\",\n",
    "    py_version=\"py3\",\n",
    "    framework_version=\"1.0-1\",\n",
    "    script_mode=True,\n",
    "    hyperparameters={\"estimators\": 20},\n",
    ")\n",
    "\n",
    "# Train the estimator\n",
    "sk_estimator.fit({\"train\": training_input_path})"
   ]
  },
  {
   "cell_type": "code",
   "execution_count": null,
   "id": "af2739ef-59a3-4f2c-9316-7007ac618bca",
   "metadata": {
    "tags": []
   },
   "outputs": [],
   "source": [
    "import time\n",
    "\n",
    "sk_endpoint_name = \"sklearn-rf-model\" + time.strftime(\"%Y-%m-%d-%H-%M-%S\", time.gmtime())\n",
    "sk_predictor = sk_estimator.deploy(\n",
    "    initial_instance_count=1, instance_type=\"ml.m5.large\", endpoint_name=sk_endpoint_name\n",
    ")"
   ]
  },
  {
   "cell_type": "code",
   "execution_count": null,
   "id": "04088d46-de08-4153-bb4d-8a2d22b147f3",
   "metadata": {
    "tags": []
   },
   "outputs": [],
   "source": [
    "import json\n",
    "\n",
    "request_body = {\"Input\": [[9.0, 3571, 1976, 0.525]]}\n",
    "data = json.loads(json.dumps(request_body))"
   ]
  },
  {
   "cell_type": "code",
   "execution_count": null,
   "id": "25fb519c-570b-4b85-b12d-d6e711faa5a4",
   "metadata": {
    "tags": []
   },
   "outputs": [],
   "source": [
    "import json\n",
    "\n",
    "client = sagemaker_session.sagemaker_runtime_client\n",
    "\n",
    "request_body = {\"Input\": [[9.0, 3571, 1976, 0.525]]}\n",
    "data = json.loads(json.dumps(request_body))\n",
    "payload = json.dumps(data)\n",
    "\n",
    "response = client.invoke_endpoint(\n",
    "    EndpointName=sk_endpoint_name, ContentType=\"application/json\", Body=payload\n",
    ")\n",
    "\n",
    "result = json.loads(response[\"Body\"].read().decode())[\"Output\"]\n",
    "print(\"Predicted class category {} ({})\".format(result, categories_map[result]))"
   ]
  },
  {
   "cell_type": "code",
   "execution_count": null,
   "id": "00a80f68-3389-4d36-8c38-cc624082fa99",
   "metadata": {
    "tags": []
   },
   "outputs": [],
   "source": [
    "sk_predictor.delete_model()\n",
    "sk_predictor.delete_endpoint()"
   ]
  },
  {
   "cell_type": "code",
   "execution_count": null,
   "id": "2e2696b1-6a53-4731-8baf-fcc36b4339fe",
   "metadata": {},
   "outputs": [],
   "source": []
  }
 ],
 "metadata": {
  "instance_type": "ml.t3.medium",
  "kernelspec": {
   "display_name": "Python 3 (Data Science)",
   "language": "python",
   "name": "python3__SAGEMAKER_INTERNAL__arn:aws:sagemaker:us-east-1:081325390199:image/datascience-1.0"
  },
  "language_info": {
   "codemirror_mode": {
    "name": "ipython",
    "version": 3
   },
   "file_extension": ".py",
   "mimetype": "text/x-python",
   "name": "python",
   "nbconvert_exporter": "python",
   "pygments_lexer": "ipython3",
   "version": "3.7.10"
  }
 },
 "nbformat": 4,
 "nbformat_minor": 5
}
