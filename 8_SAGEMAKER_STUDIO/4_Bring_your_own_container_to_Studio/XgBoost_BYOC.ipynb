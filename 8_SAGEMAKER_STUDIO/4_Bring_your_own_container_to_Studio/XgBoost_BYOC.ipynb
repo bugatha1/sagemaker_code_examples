{
 "cells": [
  {
   "cell_type": "code",
   "execution_count": null,
   "id": "4d52ec8d-28ea-47f0-8621-1bc6d35016cb",
   "metadata": {
    "tags": []
   },
   "outputs": [],
   "source": [
    "!cat Dockerfile"
   ]
  },
  {
   "cell_type": "markdown",
   "id": "cb7a796b-abab-4907-9877-9b59f7c345ea",
   "metadata": {},
   "source": [
    "Step 1: Pre-requisites: Download the necessary libraries"
   ]
  },
  {
   "cell_type": "code",
   "execution_count": null,
   "id": "c184f5f1-6493-4089-a607-d17182a200c2",
   "metadata": {
    "tags": []
   },
   "outputs": [],
   "source": [
    "import sys\n",
    "\n",
    "!{sys.executable} -m pip install \"sagemaker-studio-image-build\""
   ]
  },
  {
   "cell_type": "markdown",
   "id": "1d721282-3543-419a-a653-eef024a2c774",
   "metadata": {},
   "source": [
    "Step 2: Ensure IAM Role has access to necessary services"
   ]
  },
  {
   "cell_type": "code",
   "execution_count": null,
   "id": "01489f14-1036-4a16-ab19-c4a4ad3355fe",
   "metadata": {
    "tags": []
   },
   "outputs": [],
   "source": [
    "from sagemaker import get_execution_role\n",
    "\n",
    "role = get_execution_role()\n",
    "\n",
    "role"
   ]
  },
  {
   "cell_type": "markdown",
   "id": "84af6733-0c53-46e0-b8ef-a83eaae56116",
   "metadata": {},
   "source": [
    "Restart Kernel"
   ]
  },
  {
   "cell_type": "code",
   "execution_count": null,
   "id": "47ff965d-9905-4234-b6dc-3adda4ec6610",
   "metadata": {
    "tags": []
   },
   "outputs": [],
   "source": [
    "import boto3\n",
    "\n",
    "region = boto3.session.Session().region_name\n",
    "region"
   ]
  },
  {
   "cell_type": "code",
   "execution_count": null,
   "id": "1e6344ce-798a-4161-9d20-22ea7ed38800",
   "metadata": {
    "tags": []
   },
   "outputs": [],
   "source": [
    "import sagemaker\n",
    "\n",
    "sess = sagemaker.Session()\n",
    "sm = boto3.Session().client(\"sagemaker\")\n",
    "sm"
   ]
  },
  {
   "cell_type": "markdown",
   "id": "48ebde65-3b74-45b9-b32c-f41843b78f0e",
   "metadata": {},
   "source": [
    "Complete Setup: Import libraries and set global definitions."
   ]
  },
  {
   "cell_type": "code",
   "execution_count": null,
   "id": "c0f28ac6-0f90-4608-9d56-d4e0918ee793",
   "metadata": {
    "tags": []
   },
   "outputs": [],
   "source": [
    "!sm-docker build ."
   ]
  }
 ],
 "metadata": {
  "kernelspec": {
   "display_name": "Python 3 (Data Science)",
   "language": "python",
   "name": "python3__SAGEMAKER_INTERNAL__arn:aws:sagemaker:us-east-2:429704687514:image/datascience-1.0"
  },
  "language_info": {
   "codemirror_mode": {
    "name": "ipython",
    "version": 3
   },
   "file_extension": ".py",
   "mimetype": "text/x-python",
   "name": "python",
   "nbconvert_exporter": "python",
   "pygments_lexer": "ipython3",
   "version": "3.7.10"
  }
 },
 "nbformat": 4,
 "nbformat_minor": 5
}
